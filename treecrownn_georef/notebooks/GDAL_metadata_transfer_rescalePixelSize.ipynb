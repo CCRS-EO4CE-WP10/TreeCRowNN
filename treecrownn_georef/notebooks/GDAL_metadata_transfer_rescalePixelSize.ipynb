{
 "cells": [
  {
   "cell_type": "code",
   "execution_count": 1,
   "id": "ed4e2efd",
   "metadata": {},
   "outputs": [
    {
     "data": {
      "text/html": [
       "<details>\n",
       "<summary>Click to view session information</summary>\n",
       "<pre>\n",
       "-----\n",
       "numpy               1.23.0\n",
       "osgeo               3.5.0\n",
       "rasterio            1.2.10\n",
       "session_info        1.0.0\n",
       "-----\n",
       "</pre>\n",
       "<details>\n",
       "<summary>Click to view modules imported as dependencies</summary>\n",
       "<pre>\n",
       "affine              2.3.1\n",
       "asttokens           NA\n",
       "attr                21.4.0\n",
       "backcall            0.2.0\n",
       "certifi             2022.09.24\n",
       "click               8.1.3\n",
       "colorama            0.4.5\n",
       "cython_runtime      NA\n",
       "dateutil            2.8.2\n",
       "debugpy             1.6.0\n",
       "decorator           5.1.1\n",
       "executing           0.8.3\n",
       "ipykernel           6.15.0\n",
       "ipython_genutils    0.2.0\n",
       "jedi                0.18.1\n",
       "ntsecuritycon       NA\n",
       "packaging           21.3\n",
       "parso               0.8.3\n",
       "pickleshare         0.7.5\n",
       "pkg_resources       NA\n",
       "prompt_toolkit      3.0.30\n",
       "psutil              5.9.1\n",
       "pure_eval           0.2.2\n",
       "pydev_ipython       NA\n",
       "pydevconsole        NA\n",
       "pydevd              2.8.0\n",
       "pydevd_file_utils   NA\n",
       "pydevd_plugins      NA\n",
       "pydevd_tracing      NA\n",
       "pygments            2.12.0\n",
       "pythoncom           NA\n",
       "pywintypes          NA\n",
       "six                 1.16.0\n",
       "stack_data          0.3.0\n",
       "swig_runtime_data4  NA\n",
       "tornado             6.2\n",
       "traitlets           5.3.0\n",
       "wcwidth             0.2.5\n",
       "win32api            NA\n",
       "win32com            NA\n",
       "win32security       NA\n",
       "zmq                 23.2.0\n",
       "</pre>\n",
       "</details> <!-- seems like this ends pre, so might as well be explicit -->\n",
       "<pre>\n",
       "-----\n",
       "IPython             8.4.0\n",
       "jupyter_client      6.1.12\n",
       "jupyter_core        4.10.0\n",
       "notebook            6.5.2\n",
       "-----\n",
       "Python 3.10.5 | packaged by conda-forge | (main, Jun 14 2022, 06:57:50) [MSC v.1929 64 bit (AMD64)]\n",
       "Windows-10-10.0.19045-SP0\n",
       "-----\n",
       "Session information updated at 2023-09-18 10:11\n",
       "</pre>\n",
       "</details>"
      ],
      "text/plain": [
       "<IPython.core.display.HTML object>"
      ]
     },
     "execution_count": 1,
     "metadata": {},
     "output_type": "execute_result"
    }
   ],
   "source": [
    "import numpy as np\n",
    "import rasterio, session_info\n",
    "from osgeo import gdal, osr\n",
    "from rasterio.windows import Window\n",
    "#from rasterio.crs import CRS\n",
    "#from rasterio.transform import from_origin\n",
    "#import os, shutil, time, csv,math\n",
    "#driver = \"GTiff\"\n",
    "driver = gdal.GetDriverByName(\"GTiff\")\n",
    "session_info.show()"
   ]
  },
  {
   "cell_type": "markdown",
   "id": "e7fd1642",
   "metadata": {},
   "source": [
    "## Define Functions to Update Window Extents"
   ]
  },
  {
   "cell_type": "code",
   "execution_count": 2,
   "id": "18db5d32",
   "metadata": {},
   "outputs": [],
   "source": [
    "def get_window_crop(img,tile_size):\n",
    "    #this function crops the image with metadata to match inference extents, as per inference cropping process\n",
    "    #from rasterio docs: Window(col_off, row_off, width, height)\n",
    "    x = img.width\n",
    "    y = img.height\n",
    "    cropx = (round(int(x/tile_size),0)*tile_size)\n",
    "    cropy = (round(int(y/tile_size),0)*tile_size)\n",
    "    startx = x//2-(cropx//2)\n",
    "    starty=y//2-(cropy//2)\n",
    "    print(startx, startx+cropx, starty, starty+cropy)\n",
    "    window = Window(startx,starty,cropx,cropy)\n",
    "    return window\n"
   ]
  },
  {
   "cell_type": "markdown",
   "id": "ac249921",
   "metadata": {},
   "source": [
    "## Set Paths and Tile Size"
   ]
  },
  {
   "cell_type": "code",
   "execution_count": 36,
   "id": "a61e94a6",
   "metadata": {},
   "outputs": [],
   "source": [
    "#point to original image file with the geo metadata intact\n",
    "#path_to_georef_raster=r'E:/MtPolley_Project/4_GIS/2022_DEM_GANs/PyWorking/output_for_Mitra/External_Test1/cdem_fill.tif'\n",
    "#path_to_georef_raster = r'E:/MtPolley_Project/4_GIS/for_CNN/ortho/2023_treecounting/2019_ortho/2019_ort_4inf.tif'\n",
    "#path_to_georef_raster = r'E:/MtPolley_Project/4_GIS/for_CNN/ortho/2023_treecounting/2019_ortho/2019_ort_4inf_small2.tif'\n",
    "#path_to_georef_raster = r'E:/MtPolley_Project/4_GIS/for_CNN/ortho/2023_treecounting/2019_mine_site/MtP_Mine_clip_small.tif'\n",
    "#path_to_georef_raster = r'F:/MtPolley/tree_counting/10cm_Resamples/2019_QCNL_10cm/D15_10cm.tif'\n",
    "#path_to_georef_raster = r'D:/EO4CEWP9_UAV_Datasets/2022_UofC_AB/StonyFen/StonyFen_clip_rs.tif'\n",
    "path_to_georef_raster = r'F:/MtPolley/tree_counting/10cm_Resamples/2022_UofC/StonyFen_10cm.tif'\n",
    "#path_to_georef_raster = r'F:/MtPolley/tree_counting/10cm_Resamples/2021_SumacSouthON_10cm/n9_10cm.tif'\n",
    "#path_to_georef_raster = r'F:/MtPolley/tree_counting/10cm_Resamples/2022_USherbrooke_QCNL/Site_20_10cm.tif'\n",
    "#path_to_georef_raster = r'E:/MtPolley_Project/4_GIS/for_CNN/ortho/2023_treecounting/2019_ortho/2019_ort_clip_AI_wrkshp.tif'\n",
    "\n",
    "#point to the inference output image that you want to write metadata to\n",
    "#path_to_raster_with_data=r'E:/MtPolley_Project/4_GIS/2022_DEM_GANs/PyWorking/output_for_Mitra/Results/results_set8_clipped/SR_set8_all_in_one_clipped.tif'\n",
    "#path_to_raster_with_data = r'C:/Users/jlovitt/Pyworking/for_CNN_5/RGB_aerial/inference/GRSimple_xtra0_+dense_MtP_clip.tif'\n",
    "#path_to_raster_with_data = r'C:/Users/jlovitt/Pyworking/for_CNN_5/RGB_aerial/inference/GRSimple_xtra0_+dense_MtP_Mine_clip.tif'\n",
    "#path_to_raster_with_data = r'C:/Users/jlovitt/Pyworking/for_CNN_5/RGB_aerial/inference/GRSimple_xtra0_+dense_D15.tif'\n",
    "#path_to_raster_with_data = r'C:/Users/jlovitt/Pyworking/for_CNN_5/RGB_aerial/inference/GRSimple_xtra0_+dense_paddingTest.tif'\n",
    "path_to_raster_with_data = r'C:/Users/jlovitt/Pyworking/for_CNN_5/RGB_aerial/inference/newV1_StonyFen_ts128_heatmap_localNorm_gc.tif'\n",
    "#path_to_raster_with_data = r'C:/Users/jlovitt/Pyworking/for_CNN_5/RGB_aerial/inference/heatmap_test_newV1_ts128_heatmap_localNorm_gc.tif'\n",
    "\n",
    "#define the name of output image\n",
    "#output_raster=r'E:/MtPolley_Project/4_GIS/2022_DEM_GANs/PyWorking/output_for_Mitra/Results/JL/set8_clipped_GeoRef.tif'\n",
    "output_raster = r'C:/Users/jlovitt/Pyworking/for_CNN_5/RGB_aerial/inference/newV1_StonyFen_ts128_heatmap_localNorm_gc_georef.tif' \n",
    "\n",
    "tile_size = 128 # for tree counting CNN tile size is usually 128 unless padding was used during inference\n",
    "is_FSD = False\n",
    "#tile_size = 96 # for SRGAN tile size depends on what was used in training"
   ]
  },
  {
   "cell_type": "markdown",
   "id": "db7e718c",
   "metadata": {},
   "source": [
    "## Load Images, Set dtype to match Inference Image"
   ]
  },
  {
   "cell_type": "code",
   "execution_count": 37,
   "id": "a3badafd",
   "metadata": {},
   "outputs": [],
   "source": [
    "raster_with_ref= rasterio.open(path_to_georef_raster)"
   ]
  },
  {
   "cell_type": "code",
   "execution_count": 38,
   "id": "b0f76bfe",
   "metadata": {},
   "outputs": [
    {
     "name": "stdout",
     "output_type": "stream",
     "text": [
      "EPSG:2956\n",
      "image width:  7983   image height:  5421\n",
      "Upper Left Image Origin= X: 480586.64771000005 , Y: 6246389.955510001 Pixel size:  0.09999999999999855 m, -0.09999999999993128 m\n"
     ]
    }
   ],
   "source": [
    "input_crs = raster_with_ref.crs\n",
    "input_gt  = raster_with_ref.transform\n",
    "\n",
    "print(input_crs)\n",
    "print(\"image width: \",raster_with_ref.width,\"  image height: \",raster_with_ref.height)\n",
    "print(\"Upper Left Image Origin= X:\",input_gt[2],\", Y:\",input_gt[5],\"Pixel size: \", input_gt[0],\"m,\",input_gt[4],\"m\")"
   ]
  },
  {
   "cell_type": "code",
   "execution_count": 39,
   "id": "d7516967",
   "metadata": {},
   "outputs": [
    {
     "name": "stdout",
     "output_type": "stream",
     "text": [
      "23 7959 22 5398\n",
      "7936 5376\n"
     ]
    }
   ],
   "source": [
    "ras = get_window_crop(raster_with_ref,tile_size)\n",
    "print(ras.width,ras.height)"
   ]
  },
  {
   "cell_type": "code",
   "execution_count": 40,
   "id": "e6e63a37",
   "metadata": {},
   "outputs": [
    {
     "name": "stdout",
     "output_type": "stream",
     "text": [
      "480588.99771 6246387.705510001\n"
     ]
    }
   ],
   "source": [
    "newxo = input_gt[2]+(((raster_with_ref.width-ras.width)/2)*input_gt[0])\n",
    "newyo = input_gt[5]+(((raster_with_ref.height-ras.height)/2)*input_gt[4])\n",
    "print(newxo,newyo)"
   ]
  },
  {
   "cell_type": "code",
   "execution_count": 41,
   "id": "5e44350a",
   "metadata": {},
   "outputs": [],
   "source": [
    "if is_FSD == True:\n",
    "    ground_resolution = tile_size/10\n",
    "else:\n",
    "    ground_resolution = input_gt[0]"
   ]
  },
  {
   "cell_type": "markdown",
   "id": "5c51858e",
   "metadata": {},
   "source": [
    "## Rescale image to Prediction Map Resolution (e.g. 12.8m x 12.8m pixels)"
   ]
  },
  {
   "cell_type": "code",
   "execution_count": 42,
   "id": "fe135800",
   "metadata": {},
   "outputs": [
    {
     "name": "stdout",
     "output_type": "stream",
     "text": [
      "| 0.10, 0.00, 480589.00|\n",
      "| 0.00,-0.10, 6246387.71|\n",
      "| 0.00, 0.00, 1.00|\n"
     ]
    }
   ],
   "source": [
    "rescale = rasterio.transform.from_origin(newxo, newyo,ground_resolution,ground_resolution)\n",
    "print(rescale)"
   ]
  },
  {
   "cell_type": "code",
   "execution_count": 43,
   "id": "80f9b4f8",
   "metadata": {},
   "outputs": [],
   "source": [
    "#rescale = rasterio.transform.from_origin(input_gt[2], input_gt[5],ground_resolution,ground_resolution)\n",
    "#print(rescale)"
   ]
  },
  {
   "cell_type": "markdown",
   "id": "9289d882",
   "metadata": {},
   "source": [
    "## Open Raster with Data (Inference Image)"
   ]
  },
  {
   "cell_type": "code",
   "execution_count": 44,
   "id": "ac56c26e",
   "metadata": {},
   "outputs": [],
   "source": [
    "raster_with_data = rasterio.open(path_to_raster_with_data)\n",
    "\n",
    "raster_array_with_data = raster_with_data.read()\n",
    "dtype=raster_array_with_data.dtype"
   ]
  },
  {
   "cell_type": "markdown",
   "id": "2da1ff43",
   "metadata": {},
   "source": [
    "## Get Data Dimensions"
   ]
  },
  {
   "cell_type": "code",
   "execution_count": 45,
   "id": "3f9d48a8",
   "metadata": {},
   "outputs": [
    {
     "name": "stdout",
     "output_type": "stream",
     "text": [
      "image width:  7983   image height:  5421\n"
     ]
    }
   ],
   "source": [
    "print(\"image width: \",raster_with_data.width,\"  image height: \",raster_with_data.height)\n",
    "height = raster_with_data.height\n",
    "width = raster_with_data.width"
   ]
  },
  {
   "cell_type": "markdown",
   "id": "6571e79c",
   "metadata": {},
   "source": [
    "window = get_window_crop(raster_with_ref,tile_size) \n",
    "print(window.height,window.width)"
   ]
  },
  {
   "cell_type": "markdown",
   "id": "a588f433",
   "metadata": {},
   "source": [
    "## Write Metadata to Inference Image"
   ]
  },
  {
   "cell_type": "code",
   "execution_count": 46,
   "id": "a819b39c",
   "metadata": {},
   "outputs": [
    {
     "name": "stdout",
     "output_type": "stream",
     "text": [
      "{'driver': 'GTiff', 'dtype': 'uint8', 'nodata': None, 'width': 7983, 'height': 5421, 'count': 4, 'crs': CRS.from_epsg(2956), 'transform': Affine(0.09999999999999855, 0.0, 480586.64771000005,\n",
      "       0.0, -0.09999999999993128, 6246389.955510001)}\n",
      "{'driver': 'GTiff', 'dtype': dtype('float32'), 'nodata': None, 'width': 7983, 'height': 5421, 'count': 1, 'crs': CRS.from_epsg(2956), 'transform': Affine(0.09999999999999855, 0.0, 480586.64771000005,\n",
      "       0.0, -0.09999999999993128, 6246389.955510001)}\n"
     ]
    }
   ],
   "source": [
    "if is_FSD == True:\n",
    "    \n",
    "    with raster_with_ref as src:\n",
    "        kwargs = raster_with_ref.meta.copy()\n",
    "        print(kwargs)\n",
    "    \n",
    "        kwargs.update({\n",
    "            'height': raster_with_data.height,\n",
    "            'width': raster_with_data.width,\n",
    "            'dtype': dtype,\n",
    "            'count':raster_with_data.count,\n",
    "            'transform':rescale})\n",
    "        print(kwargs)\n",
    "    \n",
    "        with rasterio.open(output_raster, 'w', **kwargs) as dst: #defining output image and referencing updated kwargs\n",
    "            dst.write(raster_with_data.read())\n",
    "            \n",
    "else:\n",
    "    with raster_with_ref as src:\n",
    "        kwargs = raster_with_ref.meta.copy()\n",
    "        print(kwargs)\n",
    "    \n",
    "        kwargs.update({\n",
    "            'height': raster_with_data.height,\n",
    "            'width': raster_with_data.width,\n",
    "            'dtype': dtype,\n",
    "            'count':raster_with_data.count,\n",
    "            'transform':src.transform})\n",
    "        print(kwargs)\n",
    "    \n",
    "        with rasterio.open(output_raster, 'w', **kwargs) as dst: #defining output image and referencing updated kwargs\n",
    "            dst.write(raster_with_data.read())"
   ]
  },
  {
   "cell_type": "markdown",
   "id": "59a03fa2",
   "metadata": {},
   "source": [
    "with raster_with_ref as src: #write updated geospatial metadata to inference image\n",
    "    #window = get_window_crop(raster_with_ref,tile_size) #update window extents by applying crop\n",
    "\n",
    "    kwargs = src.meta.copy()\n",
    "    #print(kwargs) #print if you want to see settings of the original/reference image\n",
    "    kwargs.update({\n",
    "        #'height': window.height, #set to match updated window extents after cropping\n",
    "        #'width': window.width, #set to match updated window extents after cropping\n",
    "        'height':height\n",
    "        'width':width\n",
    "        'dtype':dtype, #set dtype to match inference image as defined above\n",
    "        'count':1, #set count to match inference image\n",
    "        'transform': rasterio.windows.transform(window, src.transform)})#updated the geotransform with new data window extents\n",
    "    print(kwargs) #print updated keyword arguments\n",
    "    \n",
    "    with rasterio.open(output_raster, 'w', **kwargs) as dst: #defining output image and referencing updated kwargs\n",
    "        dst.write(raster_with_data.read(window=window))#write data from inference image with settings defined in kwargs"
   ]
  },
  {
   "cell_type": "code",
   "execution_count": null,
   "id": "8c4bbba8",
   "metadata": {},
   "outputs": [],
   "source": []
  }
 ],
 "metadata": {
  "kernelspec": {
   "display_name": "Python 3 (ipykernel)",
   "language": "python",
   "name": "python3"
  },
  "language_info": {
   "codemirror_mode": {
    "name": "ipython",
    "version": 3
   },
   "file_extension": ".py",
   "mimetype": "text/x-python",
   "name": "python",
   "nbconvert_exporter": "python",
   "pygments_lexer": "ipython3",
   "version": "3.10.5"
  }
 },
 "nbformat": 4,
 "nbformat_minor": 5
}
