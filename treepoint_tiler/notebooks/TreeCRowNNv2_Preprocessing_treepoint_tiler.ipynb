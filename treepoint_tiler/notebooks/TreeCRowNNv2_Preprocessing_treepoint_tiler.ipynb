{
 "cells": [
  {
   "cell_type": "code",
   "execution_count": 2,
   "id": "d8d09000",
   "metadata": {},
   "outputs": [],
   "source": [
    "#set up\n",
    "import os, sys, PIL, ntpath, cv2, ipynb.fs, time,random\n",
    "from PIL import Image\n",
    "import pandas as pd\n",
    "import numpy as np\n",
    "from numpy import inf\n",
    "import tifffile as tiff\n",
    "import matplotlib.pyplot as plt\n",
    "from matplotlib.pyplot import imshow"
   ]
  },
  {
   "cell_type": "code",
   "execution_count": 3,
   "id": "025e9418",
   "metadata": {},
   "outputs": [
    {
     "data": {
      "text/html": [
       "<details>\n",
       "<summary>Click to view session information</summary>\n",
       "<pre>\n",
       "-----\n",
       "PIL                 9.1.1\n",
       "cv2                 4.5.5\n",
       "ipynb               NA\n",
       "matplotlib          3.7.1\n",
       "numpy               1.23.0\n",
       "pandas              2.0.1\n",
       "session_info        1.0.0\n",
       "tifffile            2022.5.4\n",
       "-----\n",
       "</pre>\n",
       "<details>\n",
       "<summary>Click to view modules imported as dependencies</summary>\n",
       "<pre>\n",
       "asttokens           NA\n",
       "backcall            0.2.0\n",
       "cffi                1.15.1\n",
       "colorama            0.4.5\n",
       "cycler              0.10.0\n",
       "cython_runtime      NA\n",
       "dateutil            2.8.2\n",
       "debugpy             1.6.0\n",
       "decorator           5.1.1\n",
       "defusedxml          0.7.1\n",
       "executing           0.8.3\n",
       "imagecodecs         2022.2.22\n",
       "ipykernel           6.15.0\n",
       "ipython_genutils    0.2.0\n",
       "jedi                0.18.1\n",
       "jupyter_server      1.18.1\n",
       "kiwisolver          1.4.3\n",
       "mpl_toolkits        NA\n",
       "ntsecuritycon       NA\n",
       "packaging           21.3\n",
       "parso               0.8.3\n",
       "pickleshare         0.7.5\n",
       "pkg_resources       NA\n",
       "prompt_toolkit      3.0.29\n",
       "psutil              5.9.1\n",
       "pure_eval           0.2.2\n",
       "pydev_ipython       NA\n",
       "pydevconsole        NA\n",
       "pydevd              2.8.0\n",
       "pydevd_file_utils   NA\n",
       "pydevd_plugins      NA\n",
       "pydevd_tracing      NA\n",
       "pygments            2.12.0\n",
       "pyparsing           3.0.9\n",
       "pythoncom           NA\n",
       "pytz                2022.1\n",
       "pywintypes          NA\n",
       "six                 1.16.0\n",
       "stack_data          0.3.0\n",
       "tornado             6.1\n",
       "traitlets           5.3.0\n",
       "wcwidth             0.2.5\n",
       "win32api            NA\n",
       "win32com            NA\n",
       "win32security       NA\n",
       "zmq                 23.2.0\n",
       "</pre>\n",
       "</details> <!-- seems like this ends pre, so might as well be explicit -->\n",
       "<pre>\n",
       "-----\n",
       "IPython             8.4.0\n",
       "jupyter_client      6.1.12\n",
       "jupyter_core        4.10.0\n",
       "jupyterlab          3.4.4\n",
       "notebook            6.4.12\n",
       "-----\n",
       "Python 3.10.5 | packaged by conda-forge | (main, Jun 14 2022, 06:57:19) [MSC v.1929 64 bit (AMD64)]\n",
       "Windows-10-10.0.19045-SP0\n",
       "-----\n",
       "Session information updated at 2023-09-06 10:09\n",
       "</pre>\n",
       "</details>"
      ],
      "text/plain": [
       "<IPython.core.display.HTML object>"
      ]
     },
     "execution_count": 3,
     "metadata": {},
     "output_type": "execute_result"
    }
   ],
   "source": [
    "#import preprocessing functions\n",
    "from ipynb.fs.full.TreeCRowNNv2_Functions_1 import *"
   ]
  },
  {
   "cell_type": "markdown",
   "id": "4697cd11",
   "metadata": {},
   "source": [
    "## Set Params"
   ]
  },
  {
   "cell_type": "code",
   "execution_count": 44,
   "id": "bf07f8e8",
   "metadata": {},
   "outputs": [],
   "source": [
    "\n",
    "img_path = r'C:/Users/Path_to_image.tif'\n",
    "mask_path = r'C:/Users/Path_to_annotations.tif'\n",
    "\n",
    "NoData = -9999\n",
    "\n",
    "out_path = r'C:/Users/Path_to_folder_for_output/'\n",
    "\n",
    "target = 0.2 #data split\n",
    "padding = -1 #enter -1 for random\n",
    "patch_size = -1  #enter -1 for random"
   ]
  },
  {
   "cell_type": "markdown",
   "id": "124fc782",
   "metadata": {},
   "source": [
    "## Import Data"
   ]
  },
  {
   "cell_type": "code",
   "execution_count": 45,
   "id": "802d03e9",
   "metadata": {},
   "outputs": [
    {
     "name": "stdout",
     "output_type": "stream",
     "text": [
      "MULTI-CHANNEL IMAGE SHAPE :  (12593, 11689, 4)  MIN  0.0  MAX  255.0\n",
      "ANNOTATION FILE SHAPE :  (12593, 11689)  MIN  0  MAX  1\n"
     ]
    }
   ],
   "source": [
    "large_image_stack = tiff.imread(img_path)\n",
    "large_image_stack[large_image_stack==NoData] = -9999\n",
    "large_mask_file = tiff.imread(mask_path).astype(np.uint16)\n",
    "\n",
    "print(\"MULTI-CHANNEL IMAGE SHAPE : \",large_image_stack.shape, \" MIN \",np.min(large_image_stack),\" MAX \", np.max(large_image_stack))\n",
    "print(\"ANNOTATION FILE SHAPE : \",large_mask_file.shape,\" MIN \",np.min(large_mask_file),\" MAX \",np.max(large_mask_file))"
   ]
  },
  {
   "cell_type": "markdown",
   "id": "17addef9",
   "metadata": {},
   "source": [
    "## Split Data"
   ]
  },
  {
   "cell_type": "code",
   "execution_count": 46,
   "id": "131b389f",
   "metadata": {},
   "outputs": [],
   "source": [
    "make_folders(out_path)"
   ]
  },
  {
   "cell_type": "code",
   "execution_count": 47,
   "id": "68104e36",
   "metadata": {},
   "outputs": [
    {
     "name": "stdout",
     "output_type": "stream",
     "text": [
      "crop_x:  12593 crop_y:  11689\n"
     ]
    }
   ],
   "source": [
    "tc_chan = 0\n",
    "x,y = large_mask_file.shape\n",
    "cropx = get_crop_dims(x,patch_size)\n",
    "cropy = get_crop_dims(y,patch_size)\n",
    "print(\"crop_x: \",cropx,\"crop_y: \",cropy)\n",
    "step_size = patch_size//2"
   ]
  },
  {
   "cell_type": "code",
   "execution_count": 48,
   "id": "98866b0d",
   "metadata": {},
   "outputs": [
    {
     "name": "stdout",
     "output_type": "stream",
     "text": [
      "0 12593 0 11689\n",
      "(11689, 11689)\n",
      "0 11689 4675 11689\n",
      "0 11689 0 2337\n",
      "0 11689 2337 4675\n",
      "0 12593 0 11689\n",
      "(11689, 11689)\n",
      "0 11689 4675 11689\n",
      "0 11689 0 2337\n",
      "0 11689 2337 4675\n",
      "0 12593 0 11689\n",
      "(11689, 11689)\n",
      "0 11689 4675 11689\n",
      "0 11689 0 2337\n",
      "0 11689 2337 4675\n",
      "0 12593 0 11689\n",
      "(11689, 11689)\n",
      "0 11689 4675 11689\n",
      "0 11689 0 2337\n",
      "0 11689 2337 4675\n",
      "0 12593 0 11689\n",
      "(11689, 11689)\n",
      "0 11689 4675 11689\n",
      "0 11689 0 2337\n",
      "0 11689 2337 4675\n"
     ]
    }
   ],
   "source": [
    "#RGB image prep\n",
    "train_stk, test_stk, val_stk, time1 = split_dataset(large_image_stack,target,cropx,cropy)\n",
    "tc_c = crop_center(large_mask_file,cropx,cropy)\n",
    "tc_train = crop_trainset(tc_c,target)\n",
    "tc_test=crop_testset(tc_c,target)\n",
    "tc_val=crop_valset(tc_c,target)\n",
    "tc_c = None\n",
    "del(tc_c)"
   ]
  },
  {
   "cell_type": "code",
   "execution_count": 49,
   "id": "fc9c37f9",
   "metadata": {},
   "outputs": [
    {
     "name": "stdout",
     "output_type": "stream",
     "text": [
      "TRAINING SET   (y,x)   ==>   RGB: (7014, 11689, 3) , Tree Count: (7014, 11689)\n",
      "TESTING SET    (y,x)   ==>   RGB: (2337, 11689, 3) , Tree Count: (2337, 11689)\n",
      "VALIDATION SET (y,x)   ==>   RGB: (2338, 11689, 3) , Tree Count: (2338, 11689)\n"
     ]
    }
   ],
   "source": [
    "print(\"TRAINING SET   (y,x)   ==>   RGB:\",train_stk.shape,\", Tree Count:\",tc_train.shape)\n",
    "print(\"TESTING SET    (y,x)   ==>   RGB:\",test_stk.shape,\", Tree Count:\",tc_test.shape)\n",
    "print(\"VALIDATION SET (y,x)   ==>   RGB:\",val_stk.shape,\", Tree Count:\",tc_val.shape)"
   ]
  },
  {
   "cell_type": "markdown",
   "id": "53628ab7",
   "metadata": {},
   "source": [
    "## Process Training Dataset"
   ]
  },
  {
   "cell_type": "code",
   "execution_count": 50,
   "id": "fcf647c3",
   "metadata": {},
   "outputs": [
    {
     "name": "stdout",
     "output_type": "stream",
     "text": [
      "TOTAL ANNOTATIONS FOUND :  9\n"
     ]
    }
   ],
   "source": [
    "ymax, xmax, chan = train_stk.shape\n",
    "\n",
    "out1 = out_path+\"train/\"\n",
    "out2 = out1+\"organized/\"\n",
    "\n",
    "tree_pts = get_pts(tc_train)\n",
    "print(\"TOTAL ANNOTATIONS FOUND : \",len(tree_pts))"
   ]
  },
  {
   "cell_type": "code",
   "execution_count": 52,
   "id": "258bfa03",
   "metadata": {
    "scrolled": true
   },
   "outputs": [
    {
     "name": "stdout",
     "output_type": "stream",
     "text": [
      "9  TRAINING TILES GENERATED AND ORGANIZED IN :  0.044  SECONDS\n",
      "TOTAL PROCESSING TIME PER TILE :  0.00489  SECONDS\n"
     ]
    }
   ],
   "source": [
    "patch_list,t3 = make_tiles(out1,out2,tree_pts,train_stk,tc_train,xmax,ymax,patch_size,padding)\n",
    "train_tiles = len(patch_list)\n",
    "print(train_tiles,\" TRAINING TILES GENERATED AND ORGANIZED IN : \",round(t3,5), \" SECONDS\")\n",
    "print(\"TOTAL PROCESSING TIME PER TILE : \",round(t3/train_tiles,5), \" SECONDS\")"
   ]
  },
  {
   "cell_type": "markdown",
   "id": "93b7959f",
   "metadata": {},
   "source": [
    "## Process Test Dataset"
   ]
  },
  {
   "cell_type": "code",
   "execution_count": 53,
   "id": "96e014a4",
   "metadata": {},
   "outputs": [
    {
     "name": "stdout",
     "output_type": "stream",
     "text": [
      "TOTAL ANNOTATIONS FOUND :  6\n"
     ]
    }
   ],
   "source": [
    "ymax, xmax, chan = test_stk.shape\n",
    "\n",
    "out1 = out_path+\"test/\"\n",
    "out2 = out1+\"organized/\"\n",
    "\n",
    "tree_pts = get_pts(tc_test)\n",
    "print(\"TOTAL ANNOTATIONS FOUND : \",len(tree_pts))"
   ]
  },
  {
   "cell_type": "code",
   "execution_count": 55,
   "id": "1591e675",
   "metadata": {
    "scrolled": true
   },
   "outputs": [
    {
     "name": "stdout",
     "output_type": "stream",
     "text": [
      "6  TESTING TILES GENERATED AND ORGANIZED IN :  0.027  SECONDS\n",
      "TOTAL PROCESSING TIME PER TILE :  0.0045  SECONDS\n"
     ]
    }
   ],
   "source": [
    "patch_list,t5 = make_tiles(out1,out2,tree_pts,test_stk,tc_test,xmax,ymax,patch_size,padding)\n",
    "test_tiles = len(patch_list)\n",
    "print(test_tiles,\" TESTING TILES GENERATED AND ORGANIZED IN : \",round(t5,5), \" SECONDS\")\n",
    "print(\"TOTAL PROCESSING TIME PER TILE : \",round(t5/test_tiles,5), \" SECONDS\")"
   ]
  },
  {
   "cell_type": "markdown",
   "id": "39264396",
   "metadata": {},
   "source": [
    "## Process Validation Dataset"
   ]
  },
  {
   "cell_type": "code",
   "execution_count": 56,
   "id": "de733999",
   "metadata": {
    "scrolled": true
   },
   "outputs": [
    {
     "name": "stdout",
     "output_type": "stream",
     "text": [
      "TOTAL ANNOTATIONS FOUND :  1\n"
     ]
    }
   ],
   "source": [
    "ymax, xmax, chan = val_stk.shape\n",
    "\n",
    "out1 = out_path+\"val/\"\n",
    "out2 = out1+\"organized/\"\n",
    "\n",
    "tree_pts = get_pts(tc_val)\n",
    "print(\"TOTAL ANNOTATIONS FOUND : \",len(tree_pts))"
   ]
  },
  {
   "cell_type": "code",
   "execution_count": 58,
   "id": "b09f09e8",
   "metadata": {
    "scrolled": true
   },
   "outputs": [
    {
     "name": "stdout",
     "output_type": "stream",
     "text": [
      "1  VALIDATION TILES GENERATED AND ORGANIZED IN :  0.01005  SECONDS\n",
      "TOTAL PROCESSING TIME PER TILE :  0.01005  SECONDS\n"
     ]
    }
   ],
   "source": [
    "patch_list,t7 = make_tiles(out1,out2,tree_pts,val_stk,tc_val,xmax,ymax,patch_size,padding)\n",
    "val_tiles = len(patch_list)\n",
    "print(val_tiles,\" VALIDATION TILES GENERATED AND ORGANIZED IN : \",round(t7,5), \" SECONDS\")\n",
    "print(\"TOTAL PROCESSING TIME PER TILE : \",round(t7/val_tiles,5), \" SECONDS\")"
   ]
  },
  {
   "cell_type": "markdown",
   "id": "1df15e66",
   "metadata": {},
   "source": [
    "## Total Processing Time"
   ]
  },
  {
   "cell_type": "code",
   "execution_count": 23,
   "id": "fb031b56",
   "metadata": {},
   "outputs": [
    {
     "name": "stdout",
     "output_type": "stream",
     "text": [
      "TOTAL TRAIN TILES :  269  TOTAL TEST TILES :  40  TOTAL VALIDATION TILES :  27\n",
      "336  TILES GENERATED \n"
     ]
    }
   ],
   "source": [
    "print(\"TOTAL TRAIN TILES : \",train_tiles, \" TOTAL TEST TILES : \", test_tiles,\" TOTAL VALIDATION TILES : \", val_tiles)\n",
    "print((train_tiles+test_tiles+val_tiles),\" TILES GENERATED \")"
   ]
  }
 ],
 "metadata": {
  "kernelspec": {
   "display_name": "Python 3 (ipykernel)",
   "language": "python",
   "name": "python3"
  },
  "language_info": {
   "codemirror_mode": {
    "name": "ipython",
    "version": 3
   },
   "file_extension": ".py",
   "mimetype": "text/x-python",
   "name": "python",
   "nbconvert_exporter": "python",
   "pygments_lexer": "ipython3",
   "version": "3.8.0"
  }
 },
 "nbformat": 4,
 "nbformat_minor": 5
}
